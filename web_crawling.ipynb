{
 "cells": [
  {
   "cell_type": "markdown",
   "metadata": {},
   "source": [
    "# 웹 크롤링 기초 실습 - 변동삼"
   ]
  },
  {
   "cell_type": "markdown",
   "metadata": {},
   "source": [
    "## 1) Python 3 기초 문법 및 url 요청 다루기"
   ]
  },
  {
   "cell_type": "markdown",
   "metadata": {},
   "source": [
    "#### 필요 라이브러리 import"
   ]
  },
  {
   "cell_type": "code",
   "execution_count": 1,
   "metadata": {
    "collapsed": true
   },
   "outputs": [],
   "source": [
    "import urllib.request\n",
    "import bs4"
   ]
  },
  {
   "cell_type": "markdown",
   "metadata": {},
   "source": [
    "#### 변수 할당"
   ]
  },
  {
   "cell_type": "code",
   "execution_count": 2,
   "metadata": {
    "collapsed": true
   },
   "outputs": [],
   "source": [
    "url = \"http://www.naver.com\""
   ]
  },
  {
   "cell_type": "markdown",
   "metadata": {},
   "source": [
    "#### url 요청, 결과 object 받아오기"
   ]
  },
  {
   "cell_type": "code",
   "execution_count": 3,
   "metadata": {
    "collapsed": false
   },
   "outputs": [],
   "source": [
    "res = urllib.request.urlopen(url)"
   ]
  },
  {
   "cell_type": "markdown",
   "metadata": {},
   "source": [
    "#### 결과의 코드 확인하기  ( 200 -> 성공 ) [상세](https://ko.wikipedia.org/wiki/HTTP_%EC%83%81%ED%83%9C_%EC%BD%94%EB%93%9C)"
   ]
  },
  {
   "cell_type": "code",
   "execution_count": 4,
   "metadata": {
    "collapsed": false
   },
   "outputs": [
    {
     "data": {
      "text/plain": [
       "200"
      ]
     },
     "execution_count": 4,
     "metadata": {},
     "output_type": "execute_result"
    }
   ],
   "source": [
    "res.code"
   ]
  },
  {
   "cell_type": "markdown",
   "metadata": {},
   "source": [
    "#### 결과의 내용(html) 가져와서 변수에 할당, 출력"
   ]
  },
  {
   "cell_type": "code",
   "execution_count": 5,
   "metadata": {
    "collapsed": true
   },
   "outputs": [],
   "source": [
    "html = res.read()"
   ]
  },
  {
   "cell_type": "code",
   "execution_count": 6,
   "metadata": {
    "collapsed": false
   },
   "outputs": [
    {
     "name": "stdout",
     "output_type": "stream",
     "text": [
      "b'<!doctype html>\\n<html lang=\"ko\">\\n<head>\\n<meta charset=\"utf-8\">\\n<meta http-equiv=\"Content-Script-Type\" content=\"text/javascript\">\\n<meta http-equiv=\"Content-Style-Type\" content=\"text/css\">\\n<meta http-equiv=\"X-UA-Compatible\" content=\"IE=edge\">\\n<meta name=\"viewport\" content=\"width=960\">\\n<meta name=\"apple-mobile-web-app-title\" content=\"NAVER\" />\\n<meta property=\"og:title\" content=\"\\xeb\\x84\\xa4\\xec\\x9d\\xb4\\xeb\\xb2\\x84 \\xeb\\xa9\\x94\\xec\\x9d\\xb8\">\\n<me'\n"
     ]
    }
   ],
   "source": [
    "print(html[:400])  # 400글자 까지만 출력"
   ]
  },
  {
   "cell_type": "markdown",
   "metadata": {},
   "source": [
    "#### URL 요청, html 받아오기를 수행하는 함수 생성"
   ]
  },
  {
   "cell_type": "code",
   "execution_count": 7,
   "metadata": {
    "collapsed": true
   },
   "outputs": [],
   "source": [
    "def get_html(url):\n",
    "    res = urllib.request.urlopen(url)\n",
    "    html = \"\"\n",
    "    if res.code == 200:\n",
    "        html = res.read()\n",
    "    return html"
   ]
  },
  {
   "cell_type": "code",
   "execution_count": 8,
   "metadata": {
    "collapsed": true
   },
   "outputs": [],
   "source": [
    "html = get_html(url)"
   ]
  },
  {
   "cell_type": "code",
   "execution_count": 9,
   "metadata": {
    "collapsed": false
   },
   "outputs": [
    {
     "name": "stdout",
     "output_type": "stream",
     "text": [
      "b'<!doctype html>\\n<html lang=\"ko\">\\n<head>\\n<meta charset=\"utf-8\">\\n<meta http-equiv=\"Content-Script-Type\" content=\"text/javascript\">\\n<meta http-equiv=\"Content-Style-Type\" content=\"text/css\">\\n<meta http-equiv=\"X-UA-Compatible\" content=\"IE=edge\">\\n<meta name=\"viewport\" content=\"width=960\">\\n<meta name=\"apple-mobile-web-app-title\" content=\"NAVER\" />\\n<meta property=\"og:title\" content=\"\\xeb\\x84\\xa4\\xec\\x9d\\xb4\\xeb\\xb2\\x84 \\xeb\\xa9\\x94\\xec\\x9d\\xb8\">\\n<me'\n"
     ]
    }
   ],
   "source": [
    "print(html[:400])"
   ]
  },
  {
   "cell_type": "markdown",
   "metadata": {},
   "source": [
    "## 2) 게시판 형태의 글 리스트 크롤링 ( ex. 사람인 채용정보 )"
   ]
  },
  {
   "cell_type": "markdown",
   "metadata": {},
   "source": [
    "#### 사람인 채용정보 -> 직업별(직종) -> IT.인터넷 1페이지 ( code : 4 )"
   ]
  },
  {
   "cell_type": "code",
   "execution_count": 10,
   "metadata": {
    "collapsed": true
   },
   "outputs": [],
   "source": [
    "url = \"http://www.saramin.co.kr/zf_user/upjikjong-recruit/upjikjong-list/pageCount/50/categoryCode/9%7C4/category_level/top/recruitform_type/classified/tcode/9/mcode/9/bcode/4/page/1\""
   ]
  },
  {
   "cell_type": "markdown",
   "metadata": {},
   "source": [
    "#### 사람인 채용정보 -> 직업별(직종) -> 디자인 1페이지 ( code : 12 )"
   ]
  },
  {
   "cell_type": "code",
   "execution_count": 11,
   "metadata": {
    "collapsed": true
   },
   "outputs": [],
   "source": [
    "url = \"http://www.saramin.co.kr/zf_user/upjikjong-recruit/upjikjong-list/pageCount/50/categoryCode/9%7C12/category_level/top/recruitform_type/classified/tcode/9/mcode/9/bcode/12/page/2\""
   ]
  },
  {
   "cell_type": "markdown",
   "metadata": {},
   "source": [
    "#### URL Fomatting"
   ]
  },
  {
   "cell_type": "code",
   "execution_count": 12,
   "metadata": {
    "collapsed": true
   },
   "outputs": [],
   "source": [
    "base_url = \"http://www.saramin.co.kr/zf_user/upjikjong-recruit/upjikjong-list/pageCount/{}/categoryCode/{}/category_level/top/recruitform_type/classified/tcode/9/mcode/9/bcode/{}/page/{}\""
   ]
  },
  {
   "cell_type": "code",
   "execution_count": 13,
   "metadata": {
    "collapsed": true
   },
   "outputs": [],
   "source": [
    "page_count = \"50\""
   ]
  },
  {
   "cell_type": "code",
   "execution_count": 14,
   "metadata": {
    "collapsed": true
   },
   "outputs": [],
   "source": [
    "base_category_code = \"9%7C\""
   ]
  },
  {
   "cell_type": "code",
   "execution_count": 15,
   "metadata": {
    "collapsed": true
   },
   "outputs": [],
   "source": [
    "category_code = \"4\" # It, 인터넷"
   ]
  },
  {
   "cell_type": "code",
   "execution_count": 16,
   "metadata": {
    "collapsed": false
   },
   "outputs": [
    {
     "data": {
      "text/plain": [
       "'http://www.saramin.co.kr/zf_user/upjikjong-recruit/upjikjong-list/pageCount/50/categoryCode/9%7C4/category_level/top/recruitform_type/classified/tcode/9/mcode/9/bcode/4/page/1'"
      ]
     },
     "execution_count": 16,
     "metadata": {},
     "output_type": "execute_result"
    }
   ],
   "source": [
    "base_url.format(page_count, base_category_code+category_code, category_code, \"1\")"
   ]
  },
  {
   "cell_type": "markdown",
   "metadata": {},
   "source": [
    "#### for 를 통한 반복문"
   ]
  },
  {
   "cell_type": "code",
   "execution_count": 17,
   "metadata": {
    "collapsed": false
   },
   "outputs": [
    {
     "name": "stdout",
     "output_type": "stream",
     "text": [
      "http://www.saramin.co.kr/zf_user/upjikjong-recruit/upjikjong-list/pageCount/50/categoryCode/9%7C4/category_level/top/recruitform_type/classified/tcode/9/mcode/9/bcode/4/page/1\n",
      "http://www.saramin.co.kr/zf_user/upjikjong-recruit/upjikjong-list/pageCount/50/categoryCode/9%7C4/category_level/top/recruitform_type/classified/tcode/9/mcode/9/bcode/4/page/2\n",
      "http://www.saramin.co.kr/zf_user/upjikjong-recruit/upjikjong-list/pageCount/50/categoryCode/9%7C4/category_level/top/recruitform_type/classified/tcode/9/mcode/9/bcode/4/page/3\n",
      "http://www.saramin.co.kr/zf_user/upjikjong-recruit/upjikjong-list/pageCount/50/categoryCode/9%7C4/category_level/top/recruitform_type/classified/tcode/9/mcode/9/bcode/4/page/4\n",
      "http://www.saramin.co.kr/zf_user/upjikjong-recruit/upjikjong-list/pageCount/50/categoryCode/9%7C4/category_level/top/recruitform_type/classified/tcode/9/mcode/9/bcode/4/page/5\n",
      "http://www.saramin.co.kr/zf_user/upjikjong-recruit/upjikjong-list/pageCount/50/categoryCode/9%7C4/category_level/top/recruitform_type/classified/tcode/9/mcode/9/bcode/4/page/6\n",
      "http://www.saramin.co.kr/zf_user/upjikjong-recruit/upjikjong-list/pageCount/50/categoryCode/9%7C4/category_level/top/recruitform_type/classified/tcode/9/mcode/9/bcode/4/page/7\n",
      "http://www.saramin.co.kr/zf_user/upjikjong-recruit/upjikjong-list/pageCount/50/categoryCode/9%7C4/category_level/top/recruitform_type/classified/tcode/9/mcode/9/bcode/4/page/8\n",
      "http://www.saramin.co.kr/zf_user/upjikjong-recruit/upjikjong-list/pageCount/50/categoryCode/9%7C4/category_level/top/recruitform_type/classified/tcode/9/mcode/9/bcode/4/page/9\n"
     ]
    }
   ],
   "source": [
    "for page in range(1, 10):\n",
    "    url = base_url.format(page_count, base_category_code+category_code, category_code, page)\n",
    "    print(url)"
   ]
  },
  {
   "cell_type": "markdown",
   "metadata": {},
   "source": [
    "#### 반복문에 get_html 추가"
   ]
  },
  {
   "cell_type": "code",
   "execution_count": 18,
   "metadata": {
    "collapsed": false
   },
   "outputs": [
    {
     "name": "stdout",
     "output_type": "stream",
     "text": [
      "=========== page : 1 ===========\n",
      "b'<!DOCTYPE html>\\r\\n<html>\\r\\n<head>\\r\\n\\r\\n<title>IT\\xa1\\xa4\\xc0\\xce\\xc5\\xcd\\xb3\\xdd \\xc3\\xeb\\xbe\\xf7 | \\xc1\\xf7\\xbe\\xf7\\xba\\xb0(\\xc1\\xf7\\xc1\\xbe) \\xc3\\xa4\\xbf\\xeb\\xc1\\xa4\\xba\\xb8 - \\xb0\\xf8\\xc3\\xa4\\xc0\\xc7 \\xb1\\xe2\\xc1\\xd8 \\xbb\\xe7\\xb6\\xf7'\n",
      "=========== page : 2 ===========\n",
      "b'<!DOCTYPE html>\\r\\n<html>\\r\\n<head>\\r\\n\\r\\n<title>IT\\xa1\\xa4\\xc0\\xce\\xc5\\xcd\\xb3\\xdd \\xc3\\xeb\\xbe\\xf7 | \\xc1\\xf7\\xbe\\xf7\\xba\\xb0(\\xc1\\xf7\\xc1\\xbe) \\xc3\\xa4\\xbf\\xeb\\xc1\\xa4\\xba\\xb8 - \\xb0\\xf8\\xc3\\xa4\\xc0\\xc7 \\xb1\\xe2\\xc1\\xd8 \\xbb\\xe7\\xb6\\xf7'\n"
     ]
    }
   ],
   "source": [
    "for page in range(1, 3):\n",
    "    url = base_url.format(page_count, base_category_code+category_code, category_code, page)\n",
    "    html = get_html(url)\n",
    "    print(\"=========== page : {} ===========\".format(page))\n",
    "    print(html[:100])  # 스트링의 처음부터 100 번째 글자 까지만 출력 (slicing)\n"
   ]
  },
  {
   "cell_type": "markdown",
   "metadata": {},
   "source": [
    "#### BeautifulSoup4 를 통한 HTML 파싱 ( 채용 링크 파싱 )"
   ]
  },
  {
   "cell_type": "code",
   "execution_count": 19,
   "metadata": {
    "collapsed": false
   },
   "outputs": [
    {
     "name": "stdout",
     "output_type": "stream",
     "text": [
      "http://www.saramin.co.kr/zf_user/upjikjong-recruit/upjikjong-list/pageCount/50/categoryCode/9%7C4/category_level/top/recruitform_type/classified/tcode/9/mcode/9/bcode/4/page/1\n"
     ]
    }
   ],
   "source": [
    "url = base_url.format(page_count, base_category_code+category_code, category_code, \"1\")\n",
    "print(url)"
   ]
  },
  {
   "cell_type": "code",
   "execution_count": 20,
   "metadata": {
    "collapsed": true
   },
   "outputs": [],
   "source": [
    "html = get_html(url)"
   ]
  },
  {
   "cell_type": "code",
   "execution_count": 21,
   "metadata": {
    "collapsed": false
   },
   "outputs": [],
   "source": [
    "soup = bs4.BeautifulSoup(html, \"html.parser\")"
   ]
  },
  {
   "cell_type": "code",
   "execution_count": 22,
   "metadata": {
    "collapsed": false
   },
   "outputs": [],
   "source": [
    "link_title_recruit_list = soup.find_all(\"a\", \"link_title_recruit\")"
   ]
  },
  {
   "cell_type": "code",
   "execution_count": 23,
   "metadata": {
    "collapsed": false
   },
   "outputs": [
    {
     "data": {
      "text/plain": [
       "50"
      ]
     },
     "execution_count": 23,
     "metadata": {},
     "output_type": "execute_result"
    }
   ],
   "source": [
    "len(link_title_recruit_list)"
   ]
  },
  {
   "cell_type": "code",
   "execution_count": 24,
   "metadata": {
    "collapsed": false
   },
   "outputs": [
    {
     "data": {
      "text/plain": [
       "[<a class=\"link_title_recruit\" href=\"/zf_user/recruit/recruit-view?idx=28377790\" id=\"rec_link_28377790\" onclick=\"s_trackApply(this, 'jobcategory_recruit', 'generic');\" title=\"[온라인쇼핑몰] 기획팀 경력 ,신입 사원 모집\"><span>[온라인쇼핑몰] 기획팀 경력 ,신입 사원 모집</span></a>,\n",
       " <a class=\"link_title_recruit\" href=\"/zf_user/recruit/recruit-view?idx=28229964\" id=\"rec_link_28229964\" onclick=\"s_trackApply(this, 'jobcategory_recruit', 'generic');\" title=\"신한금융그룹 그룹사 신한저축은행 IT 경력 채용\"><span>신한금융그룹 그룹사 신한저축은행 IT 경력 채..</span></a>,\n",
       " <a class=\"link_title_recruit\" href=\"/zf_user/recruit/recruit-view?idx=28157792\" id=\"rec_link_28157792\" onclick=\"s_trackApply(this, 'jobcategory_recruit', 'generic');\" title=\"부문별 모집 (플랫폼기획, UI·UX디자인, 개발자)\"><span>부문별 모집 (플랫폼기획, UI·UX디자인, 개발자)</span></a>,\n",
       " <a class=\"link_title_recruit\" href=\"/recruit/RecruitBbsSearch.php?method=NL&amp;code=bbs_recruit&amp;mode=view&amp;idx=28316551\" id=\"rec_link_28316551\" onclick=\"s_trackApply(this, 'jobcategory_recruit', 'generic');\" title=\"참엔지니어링㈜ 신입/경력 공채\"><span>참엔지니어링㈜ 신입/경력 공채</span></a>,\n",
       " <a class=\"link_title_recruit\" href=\"/zf_user/recruit/recruit-view?idx=28314469&amp;adsCategoryItem=effect_background_color&amp;\" id=\"rec_link_28314469\" onclick=\"s_trackApply(this, 'jobcategory_recruit', 'generic');\" onmousedown=\"Saramin.clickAds(28314469, 'ads_category=highlight_effect&amp;ads_item=effect_background_color')\" title=\"[휴채움 정규직] 각 부문 경력 채용\"><span>[휴채움 정규직] 각 부문 경력 채용</span></a>,\n",
       " <a class=\"link_title_recruit\" href=\"/zf_user/recruit/recruit-view?idx=28145831\" id=\"rec_link_28145831\" onclick=\"s_trackApply(this, 'jobcategory_recruit', 'generic');\" title=\"[해외취업/재외동포재단] 각 기업별 해외근무 인턴 모집\"><span>[해외취업/재외동포재단] 각 기업별 해외근무 ..</span></a>,\n",
       " <a class=\"link_title_recruit\" href=\"/zf_user/recruit/recruit-view?idx=28288606&amp;adsCategoryItem=icon&amp;\" id=\"rec_link_28288606\" onclick=\"s_trackApply(this, 'jobcategory_recruit', 'generic');\" onmousedown=\"Saramin.clickAds(28288606, 'ads_category=highlight_effect&amp;ads_item=icon')\" title=\"스피킹맥스 마케팅본부 웹디자인 신입/경력 모집\"><span>스피킹맥스 마케팅본부 웹디자인 신입/..</span></a>,\n",
       " <a class=\"link_title_recruit\" href=\"/zf_user/recruit/recruit-view?idx=28379092&amp;adsCategoryItem=effect_bold&amp;\" id=\"rec_link_28379092\" onclick=\"s_trackApply(this, 'jobcategory_recruit', 'generic');\" onmousedown=\"Saramin.clickAds(28379092, 'ads_category=highlight_effect&amp;ads_item=effect_bold')\" title=\"사업기획 및 앱디자이너 모집합니다.\"><span class=\"prd_bold\">사업기획 및 앱디자이너 모집합니다.</span></a>,\n",
       " <a class=\"link_title_recruit\" href=\"/zf_user/recruit/recruit-view?idx=28274676\" id=\"rec_link_28274676\" onclick=\"s_trackApply(this, 'jobcategory_recruit', 'generic');\" title=\"스피킹맥스 마케팅본부 웹사이트 기획자 모집\"><span>스피킹맥스 마케팅본부 웹사이트 기획자 모집</span></a>,\n",
       " <a class=\"link_title_recruit\" href=\"/zf_user/recruit/recruit-view?idx=27751047\" id=\"rec_link_27751047\" onclick=\"s_trackApply(this, 'jobcategory_recruit', 'generic');\" title=\"하루 종일 놀고 떠들기만 하는데 돈을 준다는 회사입니다\"><span>하루 종일 놀고 떠들기만 하는데 돈을 준다는 회사입..</span></a>,\n",
       " <a class=\"link_title_recruit\" href=\"/zf_user/recruit/recruit-view?idx=28368007&amp;adsCategoryItem=effect_bold&amp;\" id=\"rec_link_28368007\" onclick=\"s_trackApply(this, 'jobcategory_recruit', 'generic');\" onmousedown=\"Saramin.clickAds(28368007, 'ads_category=highlight_effect&amp;ads_item=effect_bold')\" title=\"IS토탈서비스 2016년 신입/경력사원 모집\"><span class=\"prd_bold\">IS토탈서비스 2016년 신입/경력사원 모집</span></a>,\n",
       " <a class=\"link_title_recruit\" href=\"/zf_user/recruit/recruit-view?idx=27799086&amp;adsCategoryItem=effect_bold,effect_background_color,icon&amp;\" id=\"rec_link_27799086\" onclick=\"s_trackApply(this, 'jobcategory_recruit', 'generic');\" onmousedown=\"Saramin.clickAds(27799086, 'ads_category=highlight_effect&amp;ads_item=effect_bold,effect_background_color,icon')\" title=\"[국비지원 100%]품질관리, CAD, CATIA, Inventor 교육생모집\"><span class=\"prd_bold\">[국비지원 100%]품질관리, CAD, CATIA..</span></a>,\n",
       " <a class=\"link_title_recruit\" href=\"/zf_user/recruit/recruit-view?idx=28341607&amp;adsCategoryItem=effect_bold&amp;\" id=\"rec_link_28341607\" onclick=\"s_trackApply(this, 'jobcategory_recruit', 'generic');\" onmousedown=\"Saramin.clickAds(28341607, 'ads_category=highlight_effect&amp;ads_item=effect_bold')\" title=\"센스있는 뷰티 영상 촬영&amp;amp;편집 담당 채용\"><span class=\"prd_bold\">센스있는 뷰티 영상 촬영&amp;편집 담당 채용</span></a>,\n",
       " <a class=\"link_title_recruit\" href=\"/zf_user/recruit/recruit-view?idx=28351731&amp;adsCategoryItem=effect_bold&amp;\" id=\"rec_link_28351731\" onclick=\"s_trackApply(this, 'jobcategory_recruit', 'generic');\" onmousedown=\"Saramin.clickAds(28351731, 'ads_category=highlight_effect&amp;ads_item=effect_bold')\" title=\"각 부문별 사원모집\"><span class=\"prd_bold\">각 부문별 사원모집</span></a>,\n",
       " <a class=\"link_title_recruit\" href=\"/zf_user/recruit/recruit-view?idx=28188423\" id=\"rec_link_28188423\" onclick=\"s_trackApply(this, 'jobcategory_recruit', 'generic');\" title=\"부문별 신입 및 경력사원 모집\"><span>부문별 신입 및 경력사원 모집</span></a>,\n",
       " <a class=\"link_title_recruit\" href=\"/zf_user/recruit/recruit-view?idx=28389230&amp;adsCategoryItem=effect_bold,effect_background_color,icon&amp;\" id=\"rec_link_28389230\" onclick=\"s_trackApply(this, 'jobcategory_recruit', 'generic');\" onmousedown=\"Saramin.clickAds(28389230, 'ads_category=highlight_effect&amp;ads_item=effect_bold,effect_background_color,icon')\" title=\"웹디자이너/카페24 유경험자 모집\"><span class=\"prd_bold\">웹디자이너/카페24 유경험자 모집</span></a>,\n",
       " <a class=\"link_title_recruit\" href=\"/zf_user/recruit/recruit-view?idx=28060403\" id=\"rec_link_28060403\" onclick=\"s_trackApply(this, 'jobcategory_recruit', 'generic');\" title=\"[국비지원 무료 교육]16년 하반기 취업연계 ICT 융·복합 스마트 디바이스 전자설계 실무\"><span>[국비지원 무료 교육]16년 하반기 취업연계 IC..</span></a>,\n",
       " <a class=\"link_title_recruit\" href=\"/zf_user/recruit/recruit-view?idx=28391198&amp;adsCategoryItem=icon&amp;\" id=\"rec_link_28391198\" onclick=\"s_trackApply(this, 'jobcategory_recruit', 'generic');\" onmousedown=\"Saramin.clickAds(28391198, 'ads_category=highlight_effect&amp;ads_item=icon')\" title=\"2016년 하반기 여인닷컴 분야별 모집(신입/경력)\"><span>2016년 하반기 여인닷컴 분야별 모집(신..</span></a>,\n",
       " <a class=\"link_title_recruit\" href=\"/zf_user/recruit/recruit-view?idx=28206784&amp;adsCategoryItem=effect_background_color&amp;\" id=\"rec_link_28206784\" onclick=\"s_trackApply(this, 'jobcategory_recruit', 'generic');\" onmousedown=\"Saramin.clickAds(28206784, 'ads_category=highlight_effect&amp;ads_item=effect_background_color')\" title=\"웹디자이너 및 웹프로그래머 채용\"><span>웹디자이너 및 웹프로그래머 채용</span></a>,\n",
       " <a class=\"link_title_recruit\" href=\"/zf_user/recruit/recruit-view?idx=28316310&amp;adsCategoryItem=effect_bold&amp;\" id=\"rec_link_28316310\" onclick=\"s_trackApply(this, 'jobcategory_recruit', 'generic');\" onmousedown=\"Saramin.clickAds(28316310, 'ads_category=highlight_effect&amp;ads_item=effect_bold')\" title=\"Web(java,jsp) 개발자 모집\"><span class=\"prd_bold\">Web(java,jsp) 개발자 모집</span></a>,\n",
       " <a class=\"link_title_recruit\" href=\"/zf_user/recruit/recruit-view?idx=28274568\" id=\"rec_link_28274568\" onclick=\"s_trackApply(this, 'jobcategory_recruit', 'generic');\" title=\"토마토시스템 차세대 꿀잼 개발자를 모집합니다.\"><span>토마토시스템 차세대 꿀잼 개발자를 모집합니..</span></a>,\n",
       " <a class=\"link_title_recruit\" href=\"/zf_user/recruit/recruit-view?idx=28351060&amp;adsCategoryItem=effect_bold,effect_background_color&amp;\" id=\"rec_link_28351060\" onclick=\"s_trackApply(this, 'jobcategory_recruit', 'generic');\" onmousedown=\"Saramin.clickAds(28351060, 'ads_category=highlight_effect&amp;ads_item=effect_bold,effect_background_color')\" title=\"[신입/경력] 자바(java) 웹 프로그래머 채용\"><span class=\"prd_bold\">[신입/경력] 자바(java) 웹 프로그래머 채용</span></a>,\n",
       " <a class=\"link_title_recruit\" href=\"/zf_user/recruit/recruit-view?idx=28365314&amp;adsCategoryItem=effect_bold&amp;\" id=\"rec_link_28365314\" onclick=\"s_trackApply(this, 'jobcategory_recruit', 'generic');\" onmousedown=\"Saramin.clickAds(28365314, 'ads_category=highlight_effect&amp;ads_item=effect_bold')\" title=\"BTL마케팅 &amp;amp; 이벤트 프로모션 기획자 모집\"><span class=\"prd_bold\">BTL마케팅 &amp; 이벤트 프로모션 기획자 모집</span></a>,\n",
       " <a class=\"link_title_recruit\" href=\"/zf_user/recruit/recruit-view?idx=28391256&amp;adsCategoryItem=effect_bold,icon&amp;\" id=\"rec_link_28391256\" onclick=\"s_trackApply(this, 'jobcategory_recruit', 'generic');\" onmousedown=\"Saramin.clickAds(28391256, 'ads_category=highlight_effect&amp;ads_item=effect_bold,icon')\" title=\"2016 하반기 각 부문 정규 채용\"><span class=\"prd_bold\">2016 하반기 각 부문 정규 채용</span></a>,\n",
       " <a class=\"link_title_recruit\" href=\"/zf_user/recruit/recruit-view?idx=28239242&amp;adsCategoryItem=effect_bold,icon&amp;\" id=\"rec_link_28239242\" onclick=\"s_trackApply(this, 'jobcategory_recruit', 'generic');\" onmousedown=\"Saramin.clickAds(28239242, 'ads_category=highlight_effect&amp;ads_item=effect_bold,icon')\" title=\"주식회사 위즈글로 2016년 하반기 직원 모집\"><span class=\"prd_bold\">주식회사 위즈글로 2016년 하반기 직원 ..</span></a>,\n",
       " <a class=\"link_title_recruit\" href=\"/zf_user/recruit/recruit-view?idx=28300480&amp;adsCategoryItem=effect_bold&amp;\" id=\"rec_link_28300480\" onclick=\"s_trackApply(this, 'jobcategory_recruit', 'generic');\" onmousedown=\"Saramin.clickAds(28300480, 'ads_category=highlight_effect&amp;ads_item=effect_bold')\" title=\"UI/UX/GUI Designer 2016 하반기 신입/경력사원 모집\"><span class=\"prd_bold\">UI/UX/GUI Designer 2016 하반기 신입/경력사..</span></a>,\n",
       " <a class=\"link_title_recruit\" href=\"/zf_user/recruit/recruit-view?idx=28218805\" id=\"rec_link_28218805\" onclick=\"s_trackApply(this, 'jobcategory_recruit', 'generic');\" title=\"Digital Marketing Specialist\"><span>Digital Marketing Specialist</span></a>,\n",
       " <a class=\"link_title_recruit\" href=\"/zf_user/recruit/recruit-view?idx=28219408\" id=\"rec_link_28219408\" onclick=\"s_trackApply(this, 'jobcategory_recruit', 'generic');\" title=\"L4/L7 네트워크 엔지니어 신입/경력사원모집\"><span>L4/L7 네트워크 엔지니어 신입/경력사원모집</span></a>,\n",
       " <a class=\"link_title_recruit\" href=\"/zf_user/recruit/recruit-view?idx=28300555\" id=\"rec_link_28300555\" onclick=\"s_trackApply(this, 'jobcategory_recruit', 'generic');\" title=\"전시 홍보마케팅 부문 (경력/신입) 채용\"><span>전시 홍보마케팅 부문 (경력/신입) 채용</span></a>,\n",
       " <a class=\"link_title_recruit\" href=\"/zf_user/recruit/recruit-view?idx=28315025&amp;adsCategoryItem=icon&amp;\" id=\"rec_link_28315025\" onclick=\"s_trackApply(this, 'jobcategory_recruit', 'generic');\" onmousedown=\"Saramin.clickAds(28315025, 'ads_category=highlight_effect&amp;ads_item=icon')\" title=\"㈜스터디맥스 콘텐츠개발실 중국어콘텐츠 기획 및 제작 담당자 신입/경력 모집\"><span>㈜스터디맥스 콘텐츠개발실 중국어콘텐..</span></a>,\n",
       " <a class=\"link_title_recruit\" href=\"/zf_user/recruit/recruit-view?idx=28141232\" id=\"rec_link_28141232\" onclick=\"s_trackApply(this, 'jobcategory_recruit', 'generic');\" title=\"2016년 하반기 각 분야별 직원 모집\"><span>2016년 하반기 각 분야별 직원 모집</span></a>,\n",
       " <a class=\"link_title_recruit\" href=\"/zf_user/recruit/recruit-view?idx=28366034&amp;adsCategoryItem=effect_bold&amp;\" id=\"rec_link_28366034\" onclick=\"s_trackApply(this, 'jobcategory_recruit', 'generic');\" onmousedown=\"Saramin.clickAds(28366034, 'ads_category=highlight_effect&amp;ads_item=effect_bold')\" title=\"2016년 하반기 신입 및 경력 사원 모집\"><span class=\"prd_bold\">2016년 하반기 신입 및 경력 사원 모집</span></a>,\n",
       " <a class=\"link_title_recruit\" href=\"/zf_user/recruit/recruit-view?idx=28354473\" id=\"rec_link_28354473\" onclick=\"s_trackApply(this, 'jobcategory_recruit', 'generic');\" title=\"각 부문별 인재 채용 (디자이너&amp;amp;수출/회계)\"><span>각 부문별 인재 채용 (디자이너&amp;수출/회계)</span></a>,\n",
       " <a class=\"link_title_recruit\" href=\"/zf_user/recruit/recruit-view?idx=28226958\" id=\"rec_link_28226958\" onclick=\"s_trackApply(this, 'jobcategory_recruit', 'generic');\" title=\"프로그램 개발 신입 및 경력 사원 모집\"><span>프로그램 개발 신입 및 경력 사원 모집</span></a>,\n",
       " <a class=\"link_title_recruit\" href=\"/zf_user/recruit/recruit-view?idx=28405793\" id=\"rec_link_28405793\" onclick=\"s_trackApply(this, 'jobcategory_recruit', 'generic');\" title=\"(기흥/개발) XPLATFORM 생산관리 (중급)\"><span>(기흥/개발) XPLATFORM 생산관리 (중급)</span></a>,\n",
       " <a class=\"link_title_recruit\" href=\"/zf_user/recruit/recruit-view?idx=28405791\" id=\"rec_link_28405791\" onclick=\"s_trackApply(this, 'jobcategory_recruit', 'generic');\" title=\"(화성/개발) Spring 제품관리 (중급)\"><span>(화성/개발) Spring 제품관리 (중급)</span></a>,\n",
       " <a class=\"link_title_recruit\" href=\"/zf_user/recruit/recruit-view?idx=28405789\" id=\"rec_link_28405789\" onclick=\"s_trackApply(this, 'jobcategory_recruit', 'generic');\" title=\"(수원/개발) JAVA  인사관리 (초/중급)\"><span>(수원/개발) JAVA 인사관리 (초/중급)</span></a>,\n",
       " <a class=\"link_title_recruit\" href=\"/zf_user/recruit/recruit-view?idx=28405786\" id=\"rec_link_28405786\" onclick=\"s_trackApply(this, 'jobcategory_recruit', 'generic');\" title=\"(파주/운영) PL-SQL  학습시스템 (중급)\"><span>(파주/운영) PL-SQL 학습시스템 (중급)</span></a>,\n",
       " <a class=\"link_title_recruit\" href=\"/zf_user/recruit/recruit-view?idx=28400079\" id=\"rec_link_28400079\" onclick=\"s_trackApply(this, 'jobcategory_recruit', 'generic');\" title=\"[외국계오픈마켓] 기획전, 상설코너 운영 및 관리\"><span>[외국계오픈마켓] 기획전, 상설코너 운영 및 관리</span></a>,\n",
       " <a class=\"link_title_recruit\" href=\"/zf_user/recruit/recruit-view?idx=28370004\" id=\"rec_link_28370004\" onclick=\"s_trackApply(this, 'jobcategory_recruit', 'generic');\" title=\"웹접근성, 반응형 웹퍼블리셔 모집\"><span>웹접근성, 반응형 웹퍼블리셔 모집</span></a>,\n",
       " <a class=\"link_title_recruit\" href=\"/zf_user/recruit/recruit-view?idx=28400057\" id=\"rec_link_28400057\" onclick=\"s_trackApply(this, 'jobcategory_recruit', 'generic');\" title=\"[외국계오픈마켓] 여행/티켓/항공 관련 QA/테스트\"><span>[외국계오픈마켓] 여행/티켓/항공 관련 QA/테스트</span></a>,\n",
       " <a class=\"link_title_recruit\" href=\"/zf_user/recruit/recruit-view?idx=28400076\" id=\"rec_link_28400076\" onclick=\"s_trackApply(this, 'jobcategory_recruit', 'generic');\" title=\"[서울/양재]웹 사이트 운영자 모집\"><span>[서울/양재]웹 사이트 운영자 모집</span></a>,\n",
       " <a class=\"link_title_recruit\" href=\"/zf_user/recruit/recruit-view?idx=28345868\" id=\"rec_link_28345868\" onclick=\"s_trackApply(this, 'jobcategory_recruit', 'generic');\" title=\"세제몰에서 웹디자이너를 모집합니다.\"><span>세제몰에서 웹디자이너를 모집합니다.</span></a>,\n",
       " <a class=\"link_title_recruit\" href=\"/zf_user/recruit/recruit-view?idx=28400218\" id=\"rec_link_28400218\" onclick=\"s_trackApply(this, 'jobcategory_recruit', 'generic');\" title=\"초급개발자(JAVA,JSP) 구인\"><span>초급개발자(JAVA,JSP) 구인</span></a>,\n",
       " <a class=\"link_title_recruit\" href=\"/zf_user/recruit/recruit-view?idx=28378924\" id=\"rec_link_28378924\" onclick=\"s_trackApply(this, 'jobcategory_recruit', 'generic');\" title=\"온라인몰(오픈마켓/소셜) MD 사원모집\"><span>온라인몰(오픈마켓/소셜) MD 사원모집</span></a>,\n",
       " <a class=\"link_title_recruit\" href=\"/zf_user/recruit/recruit-view?idx=28400074\" id=\"rec_link_28400074\" onclick=\"s_trackApply(this, 'jobcategory_recruit', 'generic');\" title=\"[외국계오픈마켓] 오픈마켓 상품등록 / ACM 업무\"><span>[외국계오픈마켓] 오픈마켓 상품등록 / ACM 업무</span></a>,\n",
       " <a class=\"link_title_recruit\" href=\"/zf_user/recruit/recruit-view?idx=28400186\" id=\"rec_link_28400186\" onclick=\"s_trackApply(this, 'jobcategory_recruit', 'generic');\" title=\"사무보조/웹디자인(상세페이지제작)/중국어 가능자\"><span>사무보조/웹디자인(상세페이지제작)/중국어 가능자</span></a>,\n",
       " <a class=\"link_title_recruit\" href=\"/zf_user/recruit/recruit-view?idx=28400083\" id=\"rec_link_28400083\" onclick=\"s_trackApply(this, 'jobcategory_recruit', 'generic');\" title=\"웹 사이트 기획자 모집\"><span>웹 사이트 기획자 모집</span></a>,\n",
       " <a class=\"link_title_recruit\" href=\"/zf_user/recruit/recruit-view?idx=28400023\" id=\"rec_link_28400023\" onclick=\"s_trackApply(this, 'jobcategory_recruit', 'generic');\" title=\"외국계오픈마켓] 쇼핑몰 사용자 테스터, QA 채용\"><span>외국계오픈마켓] 쇼핑몰 사용자 테스터, QA 채용</span></a>,\n",
       " <a class=\"link_title_recruit\" href=\"/zf_user/recruit/recruit-view?idx=28403444&amp;adsCategoryItem=effect_bold&amp;\" id=\"rec_link_28403444\" onclick=\"s_trackApply(this, 'jobcategory_recruit', 'generic');\" onmousedown=\"Saramin.clickAds(28403444, 'ads_category=highlight_effect&amp;ads_item=effect_bold')\" title=\"[N15] 2016년 하반기 공개채용 (10/3)\"><span class=\"prd_bold\">[N15] 2016년 하반기 공개채용 (10/3)</span></a>]"
      ]
     },
     "execution_count": 24,
     "metadata": {},
     "output_type": "execute_result"
    }
   ],
   "source": [
    "link_title_recruit_list"
   ]
  },
  {
   "cell_type": "code",
   "execution_count": 25,
   "metadata": {
    "collapsed": false
   },
   "outputs": [
    {
     "data": {
      "text/plain": [
       "<a class=\"link_title_recruit\" href=\"/zf_user/recruit/recruit-view?idx=28377790\" id=\"rec_link_28377790\" onclick=\"s_trackApply(this, 'jobcategory_recruit', 'generic');\" title=\"[온라인쇼핑몰] 기획팀 경력 ,신입 사원 모집\"><span>[온라인쇼핑몰] 기획팀 경력 ,신입 사원 모집</span></a>"
      ]
     },
     "execution_count": 25,
     "metadata": {},
     "output_type": "execute_result"
    }
   ],
   "source": [
    "link_title_recruit_list[0]"
   ]
  },
  {
   "cell_type": "code",
   "execution_count": 26,
   "metadata": {
    "collapsed": false
   },
   "outputs": [
    {
     "data": {
      "text/plain": [
       "'/zf_user/recruit/recruit-view?idx=28377790'"
      ]
     },
     "execution_count": 26,
     "metadata": {},
     "output_type": "execute_result"
    }
   ],
   "source": [
    "link_title_recruit_list[0]['href']"
   ]
  },
  {
   "cell_type": "markdown",
   "metadata": {},
   "source": [
    "BeautifulSoup4 를 통한 HTML 파싱 함수화 "
   ]
  },
  {
   "cell_type": "code",
   "execution_count": 27,
   "metadata": {
    "collapsed": false
   },
   "outputs": [],
   "source": [
    "def get_link_list(url):\n",
    "    html = get_html(url)\n",
    "    soup = bs4.BeautifulSoup(html, \"html.parser\")\n",
    "    link_title_recruit_list = soup.find_all(\"a\", \"link_title_recruit\")\n",
    "    link_list = []\n",
    "    for i in link_title_recruit_list:\n",
    "        link = \"http://www.saramin.co.kr\" + i['href']\n",
    "        link_list.append(link)\n",
    "    return link_list"
   ]
  },
  {
   "cell_type": "code",
   "execution_count": 28,
   "metadata": {
    "collapsed": false
   },
   "outputs": [],
   "source": [
    "link_list = get_link_list(url)"
   ]
  },
  {
   "cell_type": "code",
   "execution_count": 29,
   "metadata": {
    "collapsed": false
   },
   "outputs": [
    {
     "data": {
      "text/plain": [
       "['http://www.saramin.co.kr/zf_user/recruit/recruit-view?idx=28377790',\n",
       " 'http://www.saramin.co.kr/zf_user/recruit/recruit-view?idx=28229964',\n",
       " 'http://www.saramin.co.kr/zf_user/recruit/recruit-view?idx=28157792',\n",
       " 'http://www.saramin.co.kr/recruit/RecruitBbsSearch.php?method=NL&code=bbs_recruit&mode=view&idx=28316551',\n",
       " 'http://www.saramin.co.kr/zf_user/recruit/recruit-view?idx=28314469&adsCategoryItem=effect_background_color&',\n",
       " 'http://www.saramin.co.kr/zf_user/recruit/recruit-view?idx=28145831',\n",
       " 'http://www.saramin.co.kr/zf_user/recruit/recruit-view?idx=28288606&adsCategoryItem=icon&',\n",
       " 'http://www.saramin.co.kr/zf_user/recruit/recruit-view?idx=28379092&adsCategoryItem=effect_bold&',\n",
       " 'http://www.saramin.co.kr/zf_user/recruit/recruit-view?idx=28274676',\n",
       " 'http://www.saramin.co.kr/zf_user/recruit/recruit-view?idx=27751047',\n",
       " 'http://www.saramin.co.kr/zf_user/recruit/recruit-view?idx=28368007&adsCategoryItem=effect_bold&',\n",
       " 'http://www.saramin.co.kr/zf_user/recruit/recruit-view?idx=27799086&adsCategoryItem=effect_bold,effect_background_color,icon&',\n",
       " 'http://www.saramin.co.kr/zf_user/recruit/recruit-view?idx=28341607&adsCategoryItem=effect_bold&',\n",
       " 'http://www.saramin.co.kr/zf_user/recruit/recruit-view?idx=28351731&adsCategoryItem=effect_bold&',\n",
       " 'http://www.saramin.co.kr/zf_user/recruit/recruit-view?idx=28188423',\n",
       " 'http://www.saramin.co.kr/zf_user/recruit/recruit-view?idx=28389230&adsCategoryItem=effect_bold,effect_background_color,icon&',\n",
       " 'http://www.saramin.co.kr/zf_user/recruit/recruit-view?idx=28060403',\n",
       " 'http://www.saramin.co.kr/zf_user/recruit/recruit-view?idx=28391198&adsCategoryItem=icon&',\n",
       " 'http://www.saramin.co.kr/zf_user/recruit/recruit-view?idx=28206784&adsCategoryItem=effect_background_color&',\n",
       " 'http://www.saramin.co.kr/zf_user/recruit/recruit-view?idx=28316310&adsCategoryItem=effect_bold&',\n",
       " 'http://www.saramin.co.kr/zf_user/recruit/recruit-view?idx=28274568',\n",
       " 'http://www.saramin.co.kr/zf_user/recruit/recruit-view?idx=28351060&adsCategoryItem=effect_bold,effect_background_color&',\n",
       " 'http://www.saramin.co.kr/zf_user/recruit/recruit-view?idx=28365314&adsCategoryItem=effect_bold&',\n",
       " 'http://www.saramin.co.kr/zf_user/recruit/recruit-view?idx=28391256&adsCategoryItem=effect_bold,icon&',\n",
       " 'http://www.saramin.co.kr/zf_user/recruit/recruit-view?idx=28239242&adsCategoryItem=effect_bold,icon&',\n",
       " 'http://www.saramin.co.kr/zf_user/recruit/recruit-view?idx=28300480&adsCategoryItem=effect_bold&',\n",
       " 'http://www.saramin.co.kr/zf_user/recruit/recruit-view?idx=28218805',\n",
       " 'http://www.saramin.co.kr/zf_user/recruit/recruit-view?idx=28219408',\n",
       " 'http://www.saramin.co.kr/zf_user/recruit/recruit-view?idx=28300555',\n",
       " 'http://www.saramin.co.kr/zf_user/recruit/recruit-view?idx=28315025&adsCategoryItem=icon&',\n",
       " 'http://www.saramin.co.kr/zf_user/recruit/recruit-view?idx=28141232',\n",
       " 'http://www.saramin.co.kr/zf_user/recruit/recruit-view?idx=28366034&adsCategoryItem=effect_bold&',\n",
       " 'http://www.saramin.co.kr/zf_user/recruit/recruit-view?idx=28354473',\n",
       " 'http://www.saramin.co.kr/zf_user/recruit/recruit-view?idx=28226958',\n",
       " 'http://www.saramin.co.kr/zf_user/recruit/recruit-view?idx=28405793',\n",
       " 'http://www.saramin.co.kr/zf_user/recruit/recruit-view?idx=28405791',\n",
       " 'http://www.saramin.co.kr/zf_user/recruit/recruit-view?idx=28405789',\n",
       " 'http://www.saramin.co.kr/zf_user/recruit/recruit-view?idx=28405786',\n",
       " 'http://www.saramin.co.kr/zf_user/recruit/recruit-view?idx=28400079',\n",
       " 'http://www.saramin.co.kr/zf_user/recruit/recruit-view?idx=28370004',\n",
       " 'http://www.saramin.co.kr/zf_user/recruit/recruit-view?idx=28400057',\n",
       " 'http://www.saramin.co.kr/zf_user/recruit/recruit-view?idx=28400076',\n",
       " 'http://www.saramin.co.kr/zf_user/recruit/recruit-view?idx=28345868',\n",
       " 'http://www.saramin.co.kr/zf_user/recruit/recruit-view?idx=28400218',\n",
       " 'http://www.saramin.co.kr/zf_user/recruit/recruit-view?idx=28378924',\n",
       " 'http://www.saramin.co.kr/zf_user/recruit/recruit-view?idx=28400074',\n",
       " 'http://www.saramin.co.kr/zf_user/recruit/recruit-view?idx=28400186',\n",
       " 'http://www.saramin.co.kr/zf_user/recruit/recruit-view?idx=28400083',\n",
       " 'http://www.saramin.co.kr/zf_user/recruit/recruit-view?idx=28400023',\n",
       " 'http://www.saramin.co.kr/zf_user/recruit/recruit-view?idx=28403444&adsCategoryItem=effect_bold&']"
      ]
     },
     "execution_count": 29,
     "metadata": {},
     "output_type": "execute_result"
    }
   ],
   "source": [
    "link_list"
   ]
  },
  {
   "cell_type": "markdown",
   "metadata": {},
   "source": [
    "#### 반복문을 돌며 각 페이지에서 link 추출하여 축적하기 "
   ]
  },
  {
   "cell_type": "code",
   "execution_count": 30,
   "metadata": {
    "collapsed": false
   },
   "outputs": [
    {
     "name": "stdout",
     "output_type": "stream",
     "text": [
      "=========== page : 1 ===========\n",
      "=========== page : 2 ===========\n",
      "=========== page : 3 ===========\n",
      "=========== page : 4 ===========\n",
      "=========== page : 5 ===========\n",
      "=========== page : 6 ===========\n",
      "=========== page : 7 ===========\n",
      "=========== page : 8 ===========\n",
      "=========== page : 9 ===========\n"
     ]
    }
   ],
   "source": [
    "link_list = []\n",
    "for page in range(1, 10):\n",
    "    url = base_url.format(page_count, base_category_code+category_code, category_code, page)\n",
    "    print(\"=========== page : {} ===========\".format(page))\n",
    "    link_list += get_link_list(url)"
   ]
  },
  {
   "cell_type": "code",
   "execution_count": 31,
   "metadata": {
    "collapsed": false
   },
   "outputs": [
    {
     "data": {
      "text/plain": [
       "450"
      ]
     },
     "execution_count": 31,
     "metadata": {},
     "output_type": "execute_result"
    }
   ],
   "source": [
    "len(link_list)"
   ]
  },
  {
   "cell_type": "markdown",
   "metadata": {},
   "source": [
    "## 3) 각 상세 글에서 BeautifulSoup4 를 통한 정보 파싱"
   ]
  },
  {
   "cell_type": "code",
   "execution_count": 32,
   "metadata": {
    "collapsed": true
   },
   "outputs": [],
   "source": [
    "html = get_html(link_list[0])"
   ]
  },
  {
   "cell_type": "code",
   "execution_count": 33,
   "metadata": {
    "collapsed": false
   },
   "outputs": [],
   "source": [
    "soup = bs4.BeautifulSoup(html, 'html.parser')"
   ]
  },
  {
   "cell_type": "markdown",
   "metadata": {},
   "source": [
    "#### 제목 가져오기 "
   ]
  },
  {
   "cell_type": "code",
   "execution_count": 34,
   "metadata": {
    "collapsed": false
   },
   "outputs": [
    {
     "data": {
      "text/plain": [
       "<h3 class=\"job-title\">\n",
       "<span class=\"corp_name\" id=\"recruit-company-title\">㈜패션플러스</span>[온라인쇼핑몰] 기획팀 경력 ,신입 사원 모집\t\t\t\t<span class=\"scrap_icon\">\n",
       "<a href=\"javascript:showQuickLogin();\" title=\"스크랩\"><img alt=\"스크랩\" src=\"http://www.saraminimage.co.kr/ui/recruit/view/ico_scrap.png\"/></a>\n",
       "</span>\n",
       "</h3>"
      ]
     },
     "execution_count": 34,
     "metadata": {},
     "output_type": "execute_result"
    }
   ],
   "source": [
    "soup.find(\"h3\", \"job-title\")"
   ]
  },
  {
   "cell_type": "code",
   "execution_count": 35,
   "metadata": {
    "collapsed": false
   },
   "outputs": [
    {
     "data": {
      "text/plain": [
       "'\\n㈜패션플러스[온라인쇼핑몰] 기획팀 경력 ,신입 사원 모집\\t\\t\\t\\t\\n\\n\\n'"
      ]
     },
     "execution_count": 35,
     "metadata": {},
     "output_type": "execute_result"
    }
   ],
   "source": [
    "soup.find(\"h3\", \"job-title\").text"
   ]
  },
  {
   "cell_type": "code",
   "execution_count": 36,
   "metadata": {
    "collapsed": false
   },
   "outputs": [
    {
     "data": {
      "text/plain": [
       "'㈜패션플러스[온라인쇼핑몰] 기획팀 경력 ,신입 사원 모집'"
      ]
     },
     "execution_count": 36,
     "metadata": {},
     "output_type": "execute_result"
    }
   ],
   "source": [
    "soup.find(\"h3\", \"job-title\").text.strip()"
   ]
  },
  {
   "cell_type": "code",
   "execution_count": 37,
   "metadata": {
    "collapsed": true
   },
   "outputs": [],
   "source": [
    "title = soup.find(\"h3\", \"job-title\").text.strip()"
   ]
  },
  {
   "cell_type": "markdown",
   "metadata": {},
   "source": [
    "#### 상세 정보 가져오기"
   ]
  },
  {
   "cell_type": "code",
   "execution_count": 38,
   "metadata": {
    "collapsed": false
   },
   "outputs": [
    {
     "data": {
      "text/plain": [
       "[<th scope=\"row\">담당업무</th>,\n",
       " <th scope=\"row\">지역</th>,\n",
       " <th scope=\"row\">급여</th>,\n",
       " <th scope=\"row\">근무형태</th>,\n",
       " <th scope=\"row\">경력</th>,\n",
       " <th scope=\"row\">학력</th>,\n",
       " <th scope=\"row\">성별</th>,\n",
       " <th scope=\"row\">나이</th>,\n",
       " <th scope=\"row\">\n",
       " <img alt=\"지원방법\" src=\"http://www.saraminimage.co.kr/ui/recruit/view/txt_apply_howto.png\">\n",
       " </img></th>]"
      ]
     },
     "execution_count": 38,
     "metadata": {},
     "output_type": "execute_result"
    }
   ],
   "source": [
    "soup.find_all(\"th\",{\"scope\":\"row\"})"
   ]
  },
  {
   "cell_type": "code",
   "execution_count": 39,
   "metadata": {
    "collapsed": false
   },
   "outputs": [
    {
     "name": "stdout",
     "output_type": "stream",
     "text": [
      "사이트 운영, 프로젝트 관리, 프로젝트 기획, 어드민설계\n",
      "경력 2년 이상\n",
      "\n"
     ]
    }
   ],
   "source": [
    "work = ''\n",
    "career = ''\n",
    "money = ''\n",
    "for i in soup.find_all(\"th\",{\"scope\":\"row\"}):\n",
    "    if i.text == \"담당업무\":\n",
    "        work = i.parent.find(\"td\").text.strip()\n",
    "    if i.text == \"경력\":\n",
    "        career = i.parent.find(\"td\").text.strip()\n",
    "    if i.text == \"급 여\":\n",
    "        money = i.parent.find(\"td\").text.strip()\n",
    "    \n",
    "print(work)\n",
    "print(career)\n",
    "print(money)"
   ]
  },
  {
   "cell_type": "markdown",
   "metadata": {},
   "source": [
    "#### 함수화 "
   ]
  },
  {
   "cell_type": "code",
   "execution_count": 40,
   "metadata": {
    "collapsed": false
   },
   "outputs": [],
   "source": [
    "def get_detail(url):\n",
    "    html = get_html(url)\n",
    "    soup = bs4.BeautifulSoup(html, 'html.parser')\n",
    "    result = {}\n",
    "    result['url'] = url\n",
    "    result['title'] = ''\n",
    "    result['work'] = ''\n",
    "    result['career'] = ''\n",
    "    result['money'] = ''\n",
    "    result['title'] = soup.find(\"h3\", \"job-title\").text.strip()\n",
    "    for i in soup.find_all(\"th\",{\"scope\":\"row\"}):\n",
    "        if i.text == \"담당업무\":\n",
    "            result['work'] = i.parent.find(\"td\").text.strip()\n",
    "        if i.text == \"경력\":\n",
    "            result['career'] = i.parent.find(\"td\").text.strip()\n",
    "        if i.text == \"급 여\":\n",
    "            result['money'] = i.parent.find(\"td\").text.strip()\n",
    "    return result"
   ]
  },
  {
   "cell_type": "code",
   "execution_count": 41,
   "metadata": {
    "collapsed": false
   },
   "outputs": [
    {
     "data": {
      "text/plain": [
       "{'career': '경력 2년 이상',\n",
       " 'money': '',\n",
       " 'title': '㈜패션플러스[온라인쇼핑몰] 기획팀 경력 ,신입 사원 모집',\n",
       " 'url': 'http://www.saramin.co.kr/zf_user/recruit/recruit-view?idx=28377790',\n",
       " 'work': '사이트 운영, 프로젝트 관리, 프로젝트 기획, 어드민설계'}"
      ]
     },
     "execution_count": 41,
     "metadata": {},
     "output_type": "execute_result"
    }
   ],
   "source": [
    "get_detail(link_list[0])"
   ]
  },
  {
   "cell_type": "markdown",
   "metadata": {},
   "source": [
    "## 4) 결과"
   ]
  },
  {
   "cell_type": "code",
   "execution_count": 42,
   "metadata": {
    "collapsed": false
   },
   "outputs": [
    {
     "name": "stdout",
     "output_type": "stream",
     "text": [
      "{'work': '사이트 운영, 프로젝트 관리, 프로젝트 기획, 어드민설계', 'money': '', 'career': '경력 2년 이상', 'url': 'http://www.saramin.co.kr/zf_user/recruit/recruit-view?idx=28377790', 'title': '㈜패션플러스[온라인쇼핑몰] 기획팀 경력 ,신입 사원 모집'}\n",
      "{'work': '', 'money': '', 'career': '신입/경력 2년 이상', 'url': 'http://www.saramin.co.kr/zf_user/recruit/recruit-view?idx=28229964', 'title': '㈜신한저축은행신한금융그룹 그룹사 신한저축은행 IT 경력 채용'}\n",
      "{'work': '상세요강 참조', 'money': '면접후 결정', 'career': '신입/경력', 'url': 'http://www.saramin.co.kr/zf_user/recruit/recruit-view?idx=28157792', 'title': '가온넷부문별 모집 (플랫폼기획, UI·UX디자인, 개발자)'}\n",
      "{'work': '', 'money': '', 'career': '신입/경력', 'url': 'http://www.saramin.co.kr/recruit/RecruitBbsSearch.php?method=NL&code=bbs_recruit&mode=view&idx=28316551', 'title': '참엔지니어링㈜참엔지니어링㈜ 신입/경력 공채'}\n",
      "{'work': '', 'money': '', 'career': '경력', 'url': 'http://www.saramin.co.kr/zf_user/recruit/recruit-view?idx=28314469&adsCategoryItem=effect_background_color&', 'title': '㈜휴채움[휴채움 정규직] 각 부문 경력 채용'}\n",
      "{'work': '', 'money': '', 'career': '무관', 'url': 'http://www.saramin.co.kr/zf_user/recruit/recruit-view?idx=28145831', 'title': '재외동포재단[해외취업/재외동포재단] 각 기업별 해외근무 인턴 모집'}\n",
      "{'work': '', 'money': '', 'career': '신입/경력 2년 이상', 'url': 'http://www.saramin.co.kr/zf_user/recruit/recruit-view?idx=28288606&adsCategoryItem=icon&', 'title': '㈜스터디맥스스피킹맥스 마케팅본부 웹디자인 신입/경력 모집'}\n",
      "{'work': '모집요강 참조', 'money': '', 'career': '경력 2년 이상', 'url': 'http://www.saramin.co.kr/zf_user/recruit/recruit-view?idx=28379092&adsCategoryItem=effect_bold&', 'title': '(주)아이팡코리아사업기획 및 앱디자이너 모집합니다.'}\n",
      "{'work': '', 'money': '', 'career': '신입/경력', 'url': 'http://www.saramin.co.kr/zf_user/recruit/recruit-view?idx=28274676', 'title': '㈜스터디맥스스피킹맥스 마케팅본부 웹사이트 기획자 모집'}\n",
      "{'work': '휴대폰 및 인터넷 영업', 'money': '회사내규에 따름', 'career': '무관', 'url': 'http://www.saramin.co.kr/zf_user/recruit/recruit-view?idx=27751047', 'title': '(주)다온통신하루 종일 놀고 떠들기만 하는데 돈을 준다는 회사입니다'}\n"
     ]
    }
   ],
   "source": [
    "for link in link_list[:10]:\n",
    "    print(get_detail(link))"
   ]
  },
  {
   "cell_type": "code",
   "execution_count": null,
   "metadata": {
    "collapsed": true
   },
   "outputs": [],
   "source": []
  }
 ],
 "metadata": {
  "kernelspec": {
   "display_name": "Python 3",
   "language": "python",
   "name": "python3"
  },
  "language_info": {
   "codemirror_mode": {
    "name": "ipython",
    "version": 3
   },
   "file_extension": ".py",
   "mimetype": "text/x-python",
   "name": "python",
   "nbconvert_exporter": "python",
   "pygments_lexer": "ipython3",
   "version": "3.5.2"
  }
 },
 "nbformat": 4,
 "nbformat_minor": 1
}
